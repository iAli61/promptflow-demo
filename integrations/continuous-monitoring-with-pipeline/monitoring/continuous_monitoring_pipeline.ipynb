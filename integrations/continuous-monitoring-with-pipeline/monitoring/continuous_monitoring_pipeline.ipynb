{
 "cells": [
  {
   "cell_type": "markdown",
   "metadata": {},
   "source": [
    "# Continuous Monitoring Pipeline"
   ]
  },
  {
   "cell_type": "markdown",
   "metadata": {},
   "source": [
    "This tutorial describes an advanced use case of [running flows in Azure ML Pipelines](https://github.com/microsoft/promptflow/blob/main/examples/tutorials/run-flow-with-pipeline/pipeline.ipynb).  \n",
    "The detailed explanations of the prerequisites and principles can be found in the aforementioned article.\n",
    "Continuous monitoring is necessary to maintain the quality, performance and efficiency of Generative AI applications.  \n",
    "These factors directly impact the user experience and operational costs.  \n",
    "\n",
    "We will run evaluations on a basic chatbot flow, then aggregate the results to export and visualize the metrics.  \n",
    "The flows used in this pipeline are described below:\n",
    "- [Basic Chat](https://github.com/microsoft/promptflow/tree/main/examples/flows/chat/chat-basic)\n",
    "- [Q&A Evaluation](https://github.com/microsoft/promptflow/tree/main/examples/flows/evaluation/eval-qna-rag-metrics)\n",
    "- [Perceived Intelligence Evaluation](https://github.com/microsoft/promptflow/tree/main/examples/flows/evaluation/eval-perceived-intelligence)\n",
    "- [Summarization Evaluation](https://github.com/microsoft/promptflow/tree/main/examples/flows/evaluation/eval-summarization)\n",
    "\n",
    "![continuous_monitoring_pipeline.png](./media/continuous_monitoring_pipeline.png)\n"
   ]
  },
  {
   "cell_type": "markdown",
   "metadata": {},
   "source": [
    "# 1.1 Import the required libraries\n",
    "## Install the required python packages\n",
    "Make sure version of ‘azure-ai-ml’ is higher than 1.12.0"
   ]
  },
  {
   "cell_type": "code",
   "execution_count": 1,
   "metadata": {},
   "outputs": [],
   "source": [
    "# import required libraries\n",
    "from azure.identity import DefaultAzureCredential, InteractiveBrowserCredential\n",
    "from azure.ai.ml import MLClient, load_component, Input, Output\n",
    "from azure.ai.ml.constants import AssetTypes\n",
    "from azure.ai.ml.dsl import pipeline\n",
    "from datetime import datetime"
   ]
  },
  {
   "cell_type": "markdown",
   "metadata": {},
   "source": [
    "# 1.2 Configure credential"
   ]
  },
  {
   "cell_type": "code",
   "execution_count": 2,
   "metadata": {},
   "outputs": [],
   "source": [
    "try:\n",
    "    credential = DefaultAzureCredential()\n",
    "    # Check if given credential can get token successfully.\n",
    "    credential.get_token(\"https://management.azure.com/.default\")\n",
    "except Exception as ex:\n",
    "    # Fall back to InteractiveBrowserCredential in case DefaultAzureCredential not work\n",
    "    credential = InteractiveBrowserCredential()"
   ]
  },
  {
   "cell_type": "markdown",
   "metadata": {},
   "source": [
    "# 1.3 Get a handle to the workspace"
   ]
  },
  {
   "cell_type": "code",
   "execution_count": 3,
   "metadata": {},
   "outputs": [
    {
     "name": "stderr",
     "output_type": "stream",
     "text": [
      "Found the config file in: /home/azureuser/promptflow-demo/.azureml/config.json\n"
     ]
    }
   ],
   "source": [
    "# Get a handle to workspace\n",
    "ml_client = MLClient.from_config(credential=credential)"
   ]
  },
  {
   "cell_type": "markdown",
   "metadata": {},
   "source": [
    "# 1.4.1 Validate Basic Chat Flow\n",
    "## Import the flow required packages\n",
    "pip install -r ../../../flows/chat/chat-basic/requirements.txt"
   ]
  },
  {
   "cell_type": "code",
   "execution_count": 5,
   "metadata": {},
   "outputs": [
    {
     "name": "stdout",
     "output_type": "stream",
     "text": [
      "{\n",
      "  \"result\": \"Succeeded\"\n",
      "}\n"
     ]
    }
   ],
   "source": [
    "!pf flow validate --source ../../../chat/chat-basic"
   ]
  },
  {
   "cell_type": "markdown",
   "metadata": {},
   "source": [
    "# 1.4.2 Validate QnA RAG Evaluation Flow\n",
    "## Import the flow required packages\n",
    "pip install -r ../../../flows/evaluation/eval-qna-rag-metrics/requirements.txt"
   ]
  },
  {
   "cell_type": "code",
   "execution_count": 6,
   "metadata": {},
   "outputs": [
    {
     "name": "stdout",
     "output_type": "stream",
     "text": [
      "{\n",
      "  \"result\": \"Succeeded\"\n",
      "}\n"
     ]
    }
   ],
   "source": [
    "!pf flow validate --source ../../../evaluation/eval-qna-rag-metrics"
   ]
  },
  {
   "cell_type": "markdown",
   "metadata": {},
   "source": [
    "# 1.4.3 Validate Perceived Intelligence Evaluation Flow\n",
    "## Import the flow required packages\n",
    "pip install -r ../../../flows/evaluation/eval-perceived-intelligence/requirements.txt"
   ]
  },
  {
   "cell_type": "code",
   "execution_count": 7,
   "metadata": {},
   "outputs": [
    {
     "name": "stdout",
     "output_type": "stream",
     "text": [
      "{\n",
      "  \"result\": \"Succeeded\"\n",
      "}\n"
     ]
    }
   ],
   "source": [
    "!pf flow validate --source ../../../evaluation/eval-perceived-intelligence"
   ]
  },
  {
   "cell_type": "markdown",
   "metadata": {},
   "source": [
    "# 1.4.4 Validate Summarization flow\n",
    "pip install -r ../flows/standard/simple-summarization/requirements.txt"
   ]
  },
  {
   "cell_type": "code",
   "execution_count": 9,
   "metadata": {},
   "outputs": [
    {
     "name": "stdout",
     "output_type": "stream",
     "text": [
      "{\n",
      "  \"result\": \"Succeeded\"\n",
      "}\n"
     ]
    }
   ],
   "source": [
    "!pf flow validate --source ../flows/standard/simple-summarization"
   ]
  },
  {
   "cell_type": "markdown",
   "metadata": {},
   "source": [
    "# 1.4.5 Validate Summarization Evaluation flow\n",
    "pip install -r ../../../flows/evaluation/eval-summarization/requirements.txt"
   ]
  },
  {
   "cell_type": "code",
   "execution_count": 11,
   "metadata": {},
   "outputs": [
    {
     "name": "stdout",
     "output_type": "stream",
     "text": [
      "2025-02-27 09:59:59,703 - root - WARNING - 'from promptflow import tool' is deprecated and will be removed in the future. Use 'from promptflow.core import tool' instead.\n",
      "{\n",
      "  \"result\": \"Succeeded\"\n",
      "}\n"
     ]
    }
   ],
   "source": [
    "!pf flow validate --source ../../../evaluation/eval-summarization"
   ]
  },
  {
   "cell_type": "markdown",
   "metadata": {},
   "source": [
    "# 2. Load Chat flow as component"
   ]
  },
  {
   "cell_type": "code",
   "execution_count": 12,
   "metadata": {},
   "outputs": [],
   "source": [
    "chat_flow_component = load_component(\"../../../chat/chat-basic/flow.dag.yaml\")"
   ]
  },
  {
   "cell_type": "markdown",
   "metadata": {},
   "source": [
    "# 2.1 Load QnA RAG Evaluation flow as component"
   ]
  },
  {
   "cell_type": "code",
   "execution_count": 13,
   "metadata": {},
   "outputs": [],
   "source": [
    "eval_qna_rag_metrics_component = load_component(\n",
    "    \"../../../evaluation/eval-qna-rag-metrics/flow.dag.yaml\"\n",
    ")"
   ]
  },
  {
   "cell_type": "markdown",
   "metadata": {},
   "source": [
    "# 2.2 Load Perceived Intelligence flow as component"
   ]
  },
  {
   "cell_type": "code",
   "execution_count": 15,
   "metadata": {},
   "outputs": [],
   "source": [
    "eval_perceived_intelligence_component = load_component(\n",
    "    \"../../../evaluation/eval-perceived-intelligence/flow.dag.yaml\"\n",
    ")"
   ]
  },
  {
   "cell_type": "markdown",
   "metadata": {},
   "source": [
    "# 2.3 Load Summarization flow as component"
   ]
  },
  {
   "cell_type": "code",
   "execution_count": 17,
   "metadata": {},
   "outputs": [],
   "source": [
    "simple_summarization_component = load_component(\n",
    "    \"../flows/standard/simple-summarization/flow.dag.yaml\"\n",
    ")"
   ]
  },
  {
   "cell_type": "markdown",
   "metadata": {},
   "source": [
    "# 2.4 Load Summarization Evaluation flow as component"
   ]
  },
  {
   "cell_type": "code",
   "execution_count": 16,
   "metadata": {},
   "outputs": [],
   "source": [
    "eval_summarization_component = load_component(\n",
    "    \"../../../evaluation/eval-summarization/flow.dag.yaml\"\n",
    ")"
   ]
  },
  {
   "cell_type": "markdown",
   "metadata": {},
   "source": [
    "# 2.3 Load Parquet Converter\n",
    "The Parquet Converter is a [command component](https://learn.microsoft.com/en-us/azure/machine-learning/reference-yaml-component-command?view=azureml-api-2) that aggregates the results of the evaluations node and logs the metrics to ML Pipelines.  \n",
    "\n",
    "![convert_parquet.png](./media/convert_parquet.png)\n"
   ]
  },
  {
   "cell_type": "code",
   "execution_count": 18,
   "metadata": {},
   "outputs": [],
   "source": [
    "convert_parquet_component = load_component(\n",
    "    \"./components/convert_parquet/convert_parquet.yaml\"\n",
    ")"
   ]
  },
  {
   "cell_type": "markdown",
   "metadata": {},
   "source": [
    "# 3.1 Declare input and output"
   ]
  },
  {
   "cell_type": "code",
   "execution_count": 19,
   "metadata": {},
   "outputs": [],
   "source": [
    "data_input = Input(\n",
    "    path=\"./data/monitoring_dataset.jsonl\",\n",
    "    type=AssetTypes.URI_FILE,\n",
    "    mode=\"mount\",\n",
    ")\n",
    "\n",
    "eval_results_output = Output(\n",
    "    # Provide custom flow output file path if needed\n",
    "    # path=\"azureml://datastores/<data_store_name>/paths/<path>\",\n",
    "    type=AssetTypes.URI_FOLDER,\n",
    "    # rw_mount is suggested for flow output\n",
    "    mode=\"rw_mount\",\n",
    ")"
   ]
  },
  {
   "cell_type": "markdown",
   "metadata": {},
   "source": [
    "# 3.2.1 Run pipeline with single flow component"
   ]
  },
  {
   "cell_type": "code",
   "execution_count": 20,
   "metadata": {},
   "outputs": [],
   "source": [
    "# Define the pipeline as a function\n",
    "@pipeline()\n",
    "def continuous_monitoring(\n",
    "    # Function inputs will be treated as pipeline input data or parameters.\n",
    "    # Pipeline input could be linked to step inputs to pass data between steps.\n",
    "    # Users are not required to define pipeline inputs.\n",
    "    # With pipeline inputs, user can provide the different data or values when they trigger different pipeline runs.\n",
    "    pipeline_input_data: Input,\n",
    "    parallel_node_count: int = 1,\n",
    "):\n",
    "    # Declare pipeline step 'flow_node' by using flow component\n",
    "    chat_flow_node = chat_flow_component(\n",
    "        # Bind the pipeline input data to the port 'data' of the flow component\n",
    "        # If you don't have pipeline input, you can directly pass the 'data_input' object to the 'data'\n",
    "        # But with this approach, you can't provide different data when you trigger different pipeline runs.\n",
    "        data=pipeline_input_data,\n",
    "        # Declare which column of input data should be mapped to flow input\n",
    "        # the value pattern follows ${data.<column_name_from_data_input>}\n",
    "        chat_history=\"${data.chat_history}\",\n",
    "        question=\"${data.question}\",\n",
    "        # Provide the connection values of the flow component\n",
    "        # The value of connection and deployment_name should align with your workspace connection settings.\n",
    "        connections={\n",
    "            \"chat\": {\n",
    "                \"connection\": \"azure_open_ai_connection\",\n",
    "                \"deployment_name\": \"gpt-35-turbo\",\n",
    "            }\n",
    "        },\n",
    "    )\n",
    "\n",
    "    # Provide run settings of your flow component\n",
    "    # Only 'compute' is required and other setting will keep default value if not provided.\n",
    "    # If the workspace has been created with Azure AI Studio is inside a hub,\n",
    "    # a Compute Cluster cannot be used, use a Serverless instance instead.\n",
    "    chat_flow_node.environment_variables = {\n",
    "        \"PF_INPUT_FORMAT\": \"jsonl\",\n",
    "    }\n",
    "    chat_flow_node.compute = \"serverless\"\n",
    "    chat_flow_node.resources = {\"instance_count\": parallel_node_count}\n",
    "    chat_flow_node.mini_batch_size = 5\n",
    "    chat_flow_node.max_concurrency_per_instance = 2\n",
    "    chat_flow_node.retry_settings = {\n",
    "        \"max_retries\": 1,\n",
    "        \"timeout\": 1200,\n",
    "    }\n",
    "    chat_flow_node.error_threshold = -1\n",
    "    chat_flow_node.mini_batch_error_threshold = -1\n",
    "    chat_flow_node.logging_level = \"DEBUG\"\n",
    "\n",
    "    # QnA RAG Metrics Evaluation Node\n",
    "    eval_qna_rag_metrics_node = eval_qna_rag_metrics_component(\n",
    "        # Bind the pipeline input data to the port 'data' of the flow component\n",
    "        # If you don't have pipeline input, you can directly pass the 'data_input' object to the 'data'\n",
    "        # But with this approach, you can't provide different data when you trigger different pipeline runs.\n",
    "        data=pipeline_input_data,\n",
    "        # run_outputs connects the output of a previous node\n",
    "        run_outputs=chat_flow_node.outputs.flow_outputs,\n",
    "        # Declare which column of input data should be mapped to flow input\n",
    "        # the value pattern follows ${data.<column_name_from_data_input>}\n",
    "        documents=\"${data.documents}\",\n",
    "        question=\"${data.question}\",\n",
    "        # Declare which column of previous node output should be mapped to flow input\n",
    "        # the value pattern follows ${run.outputs.<column_name_from_data_input>}\n",
    "        answer=\"${run.outputs.answer}\",\n",
    "        # Provide the connection values of the flow component\n",
    "        # The value of connection and deployment_name should align with your workspace connection settings.\n",
    "        connections={\n",
    "            \"gpt_groundedness\": {\n",
    "                \"connection\": \"azure_open_ai_connection\",\n",
    "                \"deployment_name\": \"gpt-35-turbo\",\n",
    "            },\n",
    "            \"gpt_relevance\": {\n",
    "                \"connection\": \"azure_open_ai_connection\",\n",
    "                \"deployment_name\": \"gpt-35-turbo\",\n",
    "            },\n",
    "            \"gpt_retrieval_score\": {\n",
    "                \"connection\": \"azure_open_ai_connection\",\n",
    "                \"deployment_name\": \"gpt-35-turbo\",\n",
    "            },\n",
    "        },\n",
    "    )\n",
    "\n",
    "    # Provide run settings of your flow component\n",
    "    # Only 'compute' is required and other setting will keep default value if not provided.\n",
    "    # If the workspace has been created with Azure AI Studio is inside a hub,\n",
    "    # a Compute Cluster cannot be used, use a Serverless instance instead.\n",
    "    eval_qna_rag_metrics_node.environment_variables = {\n",
    "        \"PF_INPUT_FORMAT\": \"jsonl\",\n",
    "    }\n",
    "    eval_qna_rag_metrics_node.compute = \"serverless\"\n",
    "    eval_qna_rag_metrics_node.resources = {\"instance_count\": parallel_node_count}\n",
    "    eval_qna_rag_metrics_node.mini_batch_size = 5\n",
    "    eval_qna_rag_metrics_node.max_concurrency_per_instance = 2\n",
    "    eval_qna_rag_metrics_node.retry_settings = {\n",
    "        \"max_retries\": 1,\n",
    "        \"timeout\": 1200,\n",
    "    }\n",
    "    eval_qna_rag_metrics_node.error_threshold = -1\n",
    "    eval_qna_rag_metrics_node.mini_batch_error_threshold = -1\n",
    "    eval_qna_rag_metrics_node.logging_level = \"DEBUG\"\n",
    "\n",
    "    # Perceived Intelligence Evaluation Node\n",
    "    eval_perceived_intelligence_node = eval_perceived_intelligence_component(\n",
    "        # Bind the pipeline input data to the port 'data' of the flow component\n",
    "        # If you don't have pipeline input, you can directly pass the 'data_input' object to the 'data'\n",
    "        # But with this approach, you can't provide different data when you trigger different pipeline runs.\n",
    "        data=pipeline_input_data,\n",
    "        # run_outputs connects the output of a previous node\n",
    "        run_outputs=chat_flow_node.outputs.flow_outputs,\n",
    "        # Declare which column of input data should be mapped to flow input\n",
    "        # the value pattern follows ${data.<column_name_from_data_input>}\n",
    "        question=\"${data.question}\",\n",
    "        context=\"${data.context}\",\n",
    "        # Declare which column of previous node output should be mapped to flow input\n",
    "        # the value pattern follows ${run.outputs.<column_name_from_data_input>}\n",
    "        answer=\"${run.outputs.answer}\",\n",
    "        # Provide the connection values of the flow component\n",
    "        # The value of connection and deployment_name should align with your workspace connection settings.\n",
    "        connections={\n",
    "            \"gpt_perceived_intelligence\": {\n",
    "                \"connection\": \"azure_open_ai_connection\",\n",
    "                \"deployment_name\": \"gpt-35-turbo\",\n",
    "            }\n",
    "        },\n",
    "    )\n",
    "\n",
    "    # Provide run settings of your flow component\n",
    "    # Only 'compute' is required and other setting will keep default value if not provided.\n",
    "    # If the workspace has been created with Azure AI Studio is inside a hub,\n",
    "    # a Compute Cluster cannot be used, use a Serverless instance instead.\n",
    "    eval_perceived_intelligence_node.environment_variables = {\n",
    "        \"PF_INPUT_FORMAT\": \"jsonl\",\n",
    "    }\n",
    "    eval_perceived_intelligence_node.compute = \"serverless\"\n",
    "    eval_perceived_intelligence_node.resources = {\"instance_count\": parallel_node_count}\n",
    "    eval_perceived_intelligence_node.mini_batch_size = 5\n",
    "    eval_perceived_intelligence_node.max_concurrency_per_instance = 2\n",
    "    eval_perceived_intelligence_node.retry_settings = {\n",
    "        \"max_retries\": 1,\n",
    "        \"timeout\": 1200,\n",
    "    }\n",
    "    eval_perceived_intelligence_node.error_threshold = -1\n",
    "    eval_perceived_intelligence_node.mini_batch_error_threshold = -1\n",
    "    eval_perceived_intelligence_node.logging_level = \"DEBUG\"\n",
    "\n",
    "    # Summarization Node\n",
    "    simple_summarization_node = simple_summarization_component(\n",
    "        # Bind the pipeline input data to the port 'data' of the flow component\n",
    "        # If you don't have pipeline input, you can directly pass the 'data_input' object to the 'data'\n",
    "        # But with this approach, you can't provide different data when you trigger different pipeline runs.\n",
    "        data=pipeline_input_data,\n",
    "        # run_outputs connects the output of a previous node\n",
    "        run_outputs=chat_flow_node.outputs.flow_outputs,\n",
    "        # Declare which column of previous node output should be mapped to flow input\n",
    "        # the value pattern follows ${run.outputs.<column_name_from_data_input>}\n",
    "        answer=\"${run.outputs.answer}\",\n",
    "        # Provide the connection values of the flow component\n",
    "        # The value of connection and deployment_name should align with your workspace connection settings.\n",
    "        connections={\n",
    "            \"summarize_text_content\": {\n",
    "                \"connection\": \"azure_open_ai_connection\",\n",
    "                \"deployment_name\": \"gpt-35-turbo\",\n",
    "            }\n",
    "        },\n",
    "    )\n",
    "\n",
    "    # Provide run settings of your flow component\n",
    "    # Only 'compute' is required and other setting will keep default value if not provided.\n",
    "    # If the workspace has been created with Azure AI Studio is inside a hub,\n",
    "    # a Compute Cluster cannot be used, use a Serverless instance instead.\n",
    "    simple_summarization_node.environment_variables = {\n",
    "        \"PF_INPUT_FORMAT\": \"jsonl\",\n",
    "    }\n",
    "    simple_summarization_node.compute = \"serverless\"\n",
    "    simple_summarization_node.resources = {\"instance_count\": parallel_node_count}\n",
    "    simple_summarization_node.mini_batch_size = 5\n",
    "    simple_summarization_node.max_concurrency_per_instance = 2\n",
    "    simple_summarization_node.retry_settings = {\n",
    "        \"max_retries\": 1,\n",
    "        \"timeout\": 1200,\n",
    "    }\n",
    "    simple_summarization_node.error_threshold = -1\n",
    "    simple_summarization_node.mini_batch_error_threshold = -1\n",
    "    simple_summarization_node.logging_level = \"DEBUG\"\n",
    "\n",
    "    # Summarization Evaluation Node\n",
    "    eval_summarization_node = eval_summarization_component(\n",
    "        # Bind the pipeline input data to the port 'data' of the flow component\n",
    "        # If you don't have pipeline input, you can directly pass the 'data_input' object to the 'data'\n",
    "        # But with this approach, you can't provide different data when you trigger different pipeline runs.\n",
    "        data=simple_summarization_node.outputs.flow_outputs,\n",
    "        # run_outputs connects the output of a previous node\n",
    "        run_outputs=chat_flow_node.outputs.flow_outputs,\n",
    "        # Declare which column of input data should be mapped to flow input\n",
    "        # the value pattern follows ${data.<column_name_from_data_input>}\n",
    "        summary=\"${data.summary}\",\n",
    "        # Declare which column of previous node output should be mapped to flow input\n",
    "        # the value pattern follows ${run.outputs.<column_name_from_data_input>}\n",
    "        document=\"${run.outputs.answer}\",\n",
    "        # Provide the connection values of the flow component\n",
    "        # The value of connection and deployment_name should align with your workspace connection settings.\n",
    "        connections={\n",
    "            \"score_fluency\": {\n",
    "                \"connection\": \"azure_open_ai_connection\",\n",
    "            },\n",
    "            \"score_consistency\": {\n",
    "                \"connection\": \"azure_open_ai_connection\",\n",
    "            },\n",
    "            \"score_relevance\": {\n",
    "                \"connection\": \"azure_open_ai_connection\",\n",
    "            },\n",
    "            \"score_coherence\": {\n",
    "                \"connection\": \"azure_open_ai_connection\",\n",
    "            },\n",
    "        },\n",
    "    )\n",
    "\n",
    "    # Provide run settings of your flow component\n",
    "    # Only 'compute' is required and other setting will keep default value if not provided.\n",
    "    # If the workspace has been created with Azure AI Studio is inside a hub,\n",
    "    # a Compute Cluster cannot be used, use a Serverless instance instead.\n",
    "    eval_summarization_node.environment_variables = {\n",
    "        \"PF_INPUT_FORMAT\": \"jsonl\",\n",
    "    }\n",
    "    eval_summarization_node.compute = \"serverless\"\n",
    "    eval_summarization_node.resources = {\"instance_count\": parallel_node_count}\n",
    "    eval_summarization_node.mini_batch_size = 5\n",
    "    eval_summarization_node.max_concurrency_per_instance = 2\n",
    "    eval_summarization_node.retry_settings = {\n",
    "        \"max_retries\": 1,\n",
    "        \"timeout\": 1200,\n",
    "    }\n",
    "    eval_summarization_node.error_threshold = -1\n",
    "    eval_summarization_node.mini_batch_error_threshold = -1\n",
    "    eval_summarization_node.logging_level = \"DEBUG\"\n",
    "\n",
    "    convert_parquet_node = convert_parquet_component(\n",
    "        # Bind the evaluation nodes outputs to the command component's input\n",
    "        eval_qna_rag_metrics_output_folder=eval_qna_rag_metrics_node.outputs.flow_outputs,\n",
    "        eval_perceived_intelligence_output_folder=eval_perceived_intelligence_node.outputs.flow_outputs,\n",
    "        eval_summarization_output_folder=eval_summarization_node.outputs.flow_outputs,\n",
    "    )\n",
    "\n",
    "    # Provide run settings of your flow component\n",
    "    # Only 'compute' is required and other setting will keep default value if not provided.\n",
    "    # If the workspace has been created with Azure AI Studio is inside a hub,\n",
    "    # a Compute Cluster cannot be used, use a Serverless instance instead.\n",
    "    convert_parquet_node.compute = \"serverless\"\n",
    "    # Function return will be treated as pipeline output. This is not required.\n",
    "    return {\n",
    "        \"eval_results_output_folder\": convert_parquet_node.outputs.eval_results_output\n",
    "    }\n",
    "\n",
    "\n",
    "# create pipeline instance\n",
    "pipeline_job_def = continuous_monitoring(pipeline_input_data=data_input)\n",
    "pipeline_job_def.outputs.eval_results_output_folder = eval_results_output"
   ]
  },
  {
   "cell_type": "markdown",
   "metadata": {},
   "source": [
    "# 3.2.2 Submit the job"
   ]
  },
  {
   "cell_type": "code",
   "execution_count": 21,
   "metadata": {},
   "outputs": [
    {
     "name": "stderr",
     "output_type": "stream",
     "text": [
      "Class AutoDeleteSettingSchema: This is an experimental class, and may change at any time. Please see https://aka.ms/azuremlexperimental for more information.\n",
      "Class AutoDeleteConditionSchema: This is an experimental class, and may change at any time. Please see https://aka.ms/azuremlexperimental for more information.\n",
      "Class BaseAutoDeleteSettingSchema: This is an experimental class, and may change at any time. Please see https://aka.ms/azuremlexperimental for more information.\n",
      "Class IntellectualPropertySchema: This is an experimental class, and may change at any time. Please see https://aka.ms/azuremlexperimental for more information.\n",
      "Class ProtectionLevelSchema: This is an experimental class, and may change at any time. Please see https://aka.ms/azuremlexperimental for more information.\n",
      "Class BaseIntellectualPropertySchema: This is an experimental class, and may change at any time. Please see https://aka.ms/azuremlexperimental for more information.\n",
      "\u001b[32mUploading chat-basic (0.0 MBs): 100%|███████████████████████████████████████████████████████████████████████████████████████████████████████████████████████████████████████████████████████████████████████████████████████████████████████████████████████████████████████████████████████████████████████████████████████████████████████████████████████████████████████████████████████████████████████████████████████████████████████████████████████████████████████████████████████████████████████████████████████████████████████████████████████████████████████████████████████████████████████████████████████████████████████████████████████████████████████████████████████████████████████████████████████████████████████████████████████████████████████████████████████████████████████████████████████████████████████████████████████████████████████████████████████████████████████████████████████████████████████████████████████████████████████████████████████████| 4086/4086 [00:00<00:00, 33453.37it/s]\u001b[0m\n",
      "\u001b[39m\n",
      "\n",
      "\u001b[32mUploading eval-qna-rag-metrics (0.25 MBs): 100%|██████████████████████████████████████████████████████████████████████████████████████████████████████████████████████████████████████████████████████████████████████████████████████████████████████████████████████████████████████████████████████████████████████████████████████████████████████████████████████████████████████████████████████████████████████████████████████████████████████████████████████████████████████████████████████████████████████████████████████████████████████████████████████████████████████████████████████████████████████████████████████████████████████████████████████████████████████████████████████████████████████████████████████████████████████████████████████████████████████████████████████████████████████████████████████████████████████████████████████████████████████████████████████████████████████████████████████████████████████████████████████████████████████████| 248614/248614 [00:00<00:00, 2370524.01it/s]\u001b[0m\n",
      "\u001b[39m\n",
      "\n",
      "\u001b[32mUploading eval-perceived-intelligence (0.04 MBs): 100%|██████████████████████████████████████████████████████████████████████████████████████████████████████████████████████████████████████████████████████████████████████████████████████████████████████████████████████████████████████████████████████████████████████████████████████████████████████████████████████████████████████████████████████████████████████████████████████████████████████████████████████████████████████████████████████████████████████████████████████████████████████████████████████████████████████████████████████████████████████████████████████████████████████████████████████████████████████████████████████████████████████████████████████████████████████████████████████████████████████████████████████████████████████████████████████████████████████████████████████████████████████████████████████████████████████████████████████████████████████████████████████████████████████| 41862/41862 [00:00<00:00, 437903.92it/s]\u001b[0m\n",
      "\u001b[39m\n",
      "\n",
      "\u001b[32mUploading simple-summarization (0.0 MBs): 100%|█████████████████████████████████████████████████████████████████████████████████████████████████████████████████████████████████████████████████████████████████████████████████████████████████████████████████████████████████████████████████████████████████████████████████████████████████████████████████████████████████████████████████████████████████████████████████████████████████████████████████████████████████████████████████████████████████████████████████████████████████████████████████████████████████████████████████████████████████████████████████████████████████████████████████████████████████████████████████████████████████████████████████████████████████████████████████████████████████████████████████████████████████████████████████████████████████████████████████████████████████████████████████████████████████████████████████████████████████████████████████████████████████████████████████| 2241/2241 [00:00<00:00, 23448.70it/s]\u001b[0m\n",
      "\u001b[39m\n",
      "\n",
      "\u001b[32mUploading eval-summarization (0.03 MBs): 100%|███████████████████████████████████████████████████████████████████████████████████████████████████████████████████████████████████████████████████████████████████████████████████████████████████████████████████████████████████████████████████████████████████████████████████████████████████████████████████████████████████████████████████████████████████████████████████████████████████████████████████████████████████████████████████████████████████████████████████████████████████████████████████████████████████████████████████████████████████████████████████████████████████████████████████████████████████████████████████████████████████████████████████████████████████████████████████████████████████████████████████████████████████████████████████████████████████████████████████████████████████████████████████████████████████████████████████████████████████████████████████████████████████████████████| 29725/29725 [00:00<00:00, 234938.37it/s]\u001b[0m\n",
      "\u001b[39m\n",
      "\n",
      "\u001b[32mUploading convert_parquet (0.0 MBs): 100%|██████████████████████████████████████████████████████████████████████████████████████████████████████████████████████████████████████████████████████████████████████████████████████████████████████████████████████████████████████████████████████████████████████████████████████████████████████████████████████████████████████████████████████████████████████████████████████████████████████████████████████████████████████████████████████████████████████████████████████████████████████████████████████████████████████████████████████████████████████████████████████████████████████████████████████████████████████████████████████████████████████████████████████████████████████████████████████████████████████████████████████████████████████████████████████████████████████████████████████████████████████████████████████████████████████████████████████████████████████████████████████████████████████████████████████| 4075/4075 [00:00<00:00, 48762.77it/s]\u001b[0m\n",
      "\u001b[39m\n",
      "\n",
      "\u001b[32mUploading monitoring_dataset.jsonl\u001b[32m (< 1 MB): 100%|████████████████████████████████████████████████████████████████████████████████████████████████████████████████████████████████████████████████████████████████████████████████████████████████████████████████████████████████████████████████████████████████████████████████████████████████████████████████████████████████████████████████████████████████████████████████████████████████████████████████████████████████████████████████████████████████████████████████████████████████████████████████████████████████████████████████████████████████████████████████████████████████████████████████████████████████████████████████████████████████████████████████████████████████████████████████████████████████████████████████████████████████████████████████████████████████████████████████████████████████████████████████████████████████████████████████████████████████████████████████████████████████████████████████| 18.2k/18.2k [00:00<00:00, 1.14MB/s]\u001b[0m\n",
      "\u001b[39m\n",
      "\n",
      "pathOnCompute is not a known attribute of class <class 'azure.ai.ml._restclient.v2023_04_01_preview.models._models_py3.UriFolderJobOutput'> and will be ignored\n"
     ]
    },
    {
     "name": "stdout",
     "output_type": "stream",
     "text": [
      "RunId: stoic_airport_5m4dkf9l1x\n",
      "Web View: https://ml.azure.com/runs/stoic_airport_5m4dkf9l1x?wsid=/subscriptions/f804f2da-c27b-45ac-bf80-16d4d331776d/resourcegroups/rg-acadocser-dev-04/workspaces/mlw-acadocser-dev-04\n",
      "\n",
      "Streaming logs/azureml/executionlogs.txt\n",
      "========================================\n",
      "\n",
      "[2025-02-27 10:02:51Z] Submitting 1 runs, first five are: 5c792ac9:8174f50a-5eda-488d-9c00-9cbc9c3cc2c6\n",
      "[2025-02-27 10:15:53Z] Submitting 3 runs, first five are: 57ddaceb:1f663afe-b85e-44d9-9eb7-efb151a5ab4e,5b35f331:80e7f6f4-644a-466e-8f4a-58406c03ae7f,c05a1795:0f7d4fae-8a57-4268-bcd1-71a40e91c385\n",
      "[2025-02-27 10:25:56Z] Execution of experiment failed, update experiment status and cancel running nodes.\n",
      "\n",
      "Execution Summary\n",
      "=================\n",
      "RunId: stoic_airport_5m4dkf9l1x\n",
      "Web View: https://ml.azure.com/runs/stoic_airport_5m4dkf9l1x?wsid=/subscriptions/f804f2da-c27b-45ac-bf80-16d4d331776d/resourcegroups/rg-acadocser-dev-04/workspaces/mlw-acadocser-dev-04\n"
     ]
    },
    {
     "ename": "JobException",
     "evalue": "Exception : \n {\n    \"error\": {\n        \"code\": \"UserError\",\n        \"message\": \"Pipeline has failed child jobs. Failed nodes: /chat_flow_node, /eval_perceived_intelligence_node, /eval_qna_rag_metrics_node, /simple_summarization_node. For more details and logs, please go to the job detail page and check the child jobs.\",\n        \"message_format\": \"Pipeline has failed child jobs. {0}\",\n        \"message_parameters\": {},\n        \"reference_code\": \"PipelineHasStepJobFailed\",\n        \"details\": []\n    },\n    \"environment\": \"swedencentral\",\n    \"location\": \"swedencentral\",\n    \"time\": \"2025-02-27T10:25:56.191357Z\",\n    \"component_name\": \"\"\n} ",
     "output_type": "error",
     "traceback": [
      "\u001b[0;31m---------------------------------------------------------------------------\u001b[0m",
      "\u001b[0;31mJobException\u001b[0m                              Traceback (most recent call last)",
      "Cell \u001b[0;32mIn[21], line 7\u001b[0m\n\u001b[1;32m      2\u001b[0m pipeline_job_run \u001b[38;5;241m=\u001b[39m ml_client\u001b[38;5;241m.\u001b[39mjobs\u001b[38;5;241m.\u001b[39mcreate_or_update(\n\u001b[1;32m      3\u001b[0m     pipeline_job_def, experiment_name\u001b[38;5;241m=\u001b[39m\u001b[38;5;124m\"\u001b[39m\u001b[38;5;124mContinuous Monitoring\u001b[39m\u001b[38;5;124m\"\u001b[39m\n\u001b[1;32m      4\u001b[0m )\n\u001b[1;32m      5\u001b[0m pipeline_job_run\n\u001b[0;32m----> 7\u001b[0m \u001b[43mml_client\u001b[49m\u001b[38;5;241;43m.\u001b[39;49m\u001b[43mjobs\u001b[49m\u001b[38;5;241;43m.\u001b[39;49m\u001b[43mstream\u001b[49m\u001b[43m(\u001b[49m\u001b[43mpipeline_job_run\u001b[49m\u001b[38;5;241;43m.\u001b[39;49m\u001b[43mname\u001b[49m\u001b[43m)\u001b[49m\n",
      "File \u001b[0;32m/anaconda/envs/pf/lib/python3.11/site-packages/azure/core/tracing/decorator.py:116\u001b[0m, in \u001b[0;36mdistributed_trace.<locals>.decorator.<locals>.wrapper_use_tracer\u001b[0;34m(*args, **kwargs)\u001b[0m\n\u001b[1;32m    114\u001b[0m \u001b[38;5;28;01mfor\u001b[39;00m key, value \u001b[38;5;129;01min\u001b[39;00m func_tracing_attributes\u001b[38;5;241m.\u001b[39mitems():\n\u001b[1;32m    115\u001b[0m     span\u001b[38;5;241m.\u001b[39madd_attribute(key, value)\n\u001b[0;32m--> 116\u001b[0m \u001b[38;5;28;01mreturn\u001b[39;00m \u001b[43mfunc\u001b[49m\u001b[43m(\u001b[49m\u001b[38;5;241;43m*\u001b[39;49m\u001b[43margs\u001b[49m\u001b[43m,\u001b[49m\u001b[43m \u001b[49m\u001b[38;5;241;43m*\u001b[39;49m\u001b[38;5;241;43m*\u001b[39;49m\u001b[43mkwargs\u001b[49m\u001b[43m)\u001b[49m\n",
      "File \u001b[0;32m/anaconda/envs/pf/lib/python3.11/site-packages/azure/ai/ml/_telemetry/activity.py:288\u001b[0m, in \u001b[0;36mmonitor_with_activity.<locals>.monitor.<locals>.wrapper\u001b[0;34m(*args, **kwargs)\u001b[0m\n\u001b[1;32m    284\u001b[0m     \u001b[38;5;28;01mwith\u001b[39;00m tracer\u001b[38;5;241m.\u001b[39mstart_as_current_span(ACTIVITY_SPAN):\n\u001b[1;32m    285\u001b[0m         \u001b[38;5;28;01mwith\u001b[39;00m log_activity(\n\u001b[1;32m    286\u001b[0m             logger\u001b[38;5;241m.\u001b[39mpackage_logger, activity_name \u001b[38;5;129;01mor\u001b[39;00m f\u001b[38;5;241m.\u001b[39m\u001b[38;5;18m__name__\u001b[39m, activity_type, custom_dimensions\n\u001b[1;32m    287\u001b[0m         ):\n\u001b[0;32m--> 288\u001b[0m             \u001b[38;5;28;01mreturn\u001b[39;00m \u001b[43mf\u001b[49m\u001b[43m(\u001b[49m\u001b[38;5;241;43m*\u001b[39;49m\u001b[43margs\u001b[49m\u001b[43m,\u001b[49m\u001b[43m \u001b[49m\u001b[38;5;241;43m*\u001b[39;49m\u001b[38;5;241;43m*\u001b[39;49m\u001b[43mkwargs\u001b[49m\u001b[43m)\u001b[49m\n\u001b[1;32m    289\u001b[0m \u001b[38;5;28;01melif\u001b[39;00m \u001b[38;5;28mhasattr\u001b[39m(logger, \u001b[38;5;124m\"\u001b[39m\u001b[38;5;124mpackage_logger\u001b[39m\u001b[38;5;124m\"\u001b[39m):\n\u001b[1;32m    290\u001b[0m     \u001b[38;5;28;01mwith\u001b[39;00m log_activity(logger\u001b[38;5;241m.\u001b[39mpackage_logger, activity_name \u001b[38;5;129;01mor\u001b[39;00m f\u001b[38;5;241m.\u001b[39m\u001b[38;5;18m__name__\u001b[39m, activity_type, custom_dimensions):\n",
      "File \u001b[0;32m/anaconda/envs/pf/lib/python3.11/site-packages/azure/ai/ml/operations/_job_operations.py:838\u001b[0m, in \u001b[0;36mJobOperations.stream\u001b[0;34m(self, name)\u001b[0m\n\u001b[1;32m    835\u001b[0m \u001b[38;5;28;01mif\u001b[39;00m _is_pipeline_child_job(job_object):\n\u001b[1;32m    836\u001b[0m     \u001b[38;5;28;01mraise\u001b[39;00m PipelineChildJobError(job_id\u001b[38;5;241m=\u001b[39mjob_object\u001b[38;5;241m.\u001b[39mid)\n\u001b[0;32m--> 838\u001b[0m \u001b[38;5;28;43mself\u001b[39;49m\u001b[38;5;241;43m.\u001b[39;49m\u001b[43m_stream_logs_until_completion\u001b[49m\u001b[43m(\u001b[49m\n\u001b[1;32m    839\u001b[0m \u001b[43m    \u001b[49m\u001b[38;5;28;43mself\u001b[39;49m\u001b[38;5;241;43m.\u001b[39;49m\u001b[43m_runs_operations\u001b[49m\u001b[43m,\u001b[49m\n\u001b[1;32m    840\u001b[0m \u001b[43m    \u001b[49m\u001b[43mjob_object\u001b[49m\u001b[43m,\u001b[49m\n\u001b[1;32m    841\u001b[0m \u001b[43m    \u001b[49m\u001b[38;5;28;43mself\u001b[39;49m\u001b[38;5;241;43m.\u001b[39;49m\u001b[43m_datastore_operations\u001b[49m\u001b[43m,\u001b[49m\n\u001b[1;32m    842\u001b[0m \u001b[43m    \u001b[49m\u001b[43mrequests_pipeline\u001b[49m\u001b[38;5;241;43m=\u001b[39;49m\u001b[38;5;28;43mself\u001b[39;49m\u001b[38;5;241;43m.\u001b[39;49m\u001b[43m_requests_pipeline\u001b[49m\u001b[43m,\u001b[49m\n\u001b[1;32m    843\u001b[0m \u001b[43m\u001b[49m\u001b[43m)\u001b[49m\n",
      "File \u001b[0;32m/anaconda/envs/pf/lib/python3.11/site-packages/azure/ai/ml/operations/_job_ops_helper.py:334\u001b[0m, in \u001b[0;36mstream_logs_until_completion\u001b[0;34m(run_operations, job_resource, datastore_operations, raise_exception_on_failed_job, requests_pipeline)\u001b[0m\n\u001b[1;32m    332\u001b[0m         file_handle\u001b[38;5;241m.\u001b[39mwrite(\u001b[38;5;124m\"\u001b[39m\u001b[38;5;130;01m\\n\u001b[39;00m\u001b[38;5;124m\"\u001b[39m)\n\u001b[1;32m    333\u001b[0m     \u001b[38;5;28;01melse\u001b[39;00m:\n\u001b[0;32m--> 334\u001b[0m         \u001b[38;5;28;01mraise\u001b[39;00m JobException(\n\u001b[1;32m    335\u001b[0m             message\u001b[38;5;241m=\u001b[39m\u001b[38;5;124m\"\u001b[39m\u001b[38;5;124mException : \u001b[39m\u001b[38;5;130;01m\\n\u001b[39;00m\u001b[38;5;124m \u001b[39m\u001b[38;5;132;01m{}\u001b[39;00m\u001b[38;5;124m \u001b[39m\u001b[38;5;124m\"\u001b[39m\u001b[38;5;241m.\u001b[39mformat(json\u001b[38;5;241m.\u001b[39mdumps(error, indent\u001b[38;5;241m=\u001b[39m\u001b[38;5;241m4\u001b[39m)),\n\u001b[1;32m    336\u001b[0m             target\u001b[38;5;241m=\u001b[39mErrorTarget\u001b[38;5;241m.\u001b[39mJOB,\n\u001b[1;32m    337\u001b[0m             no_personal_data_message\u001b[38;5;241m=\u001b[39m\u001b[38;5;124m\"\u001b[39m\u001b[38;5;124mException raised on failed job.\u001b[39m\u001b[38;5;124m\"\u001b[39m,\n\u001b[1;32m    338\u001b[0m             error_category\u001b[38;5;241m=\u001b[39mErrorCategory\u001b[38;5;241m.\u001b[39mSYSTEM_ERROR,\n\u001b[1;32m    339\u001b[0m         )\n\u001b[1;32m    341\u001b[0m file_handle\u001b[38;5;241m.\u001b[39mwrite(\u001b[38;5;124m\"\u001b[39m\u001b[38;5;130;01m\\n\u001b[39;00m\u001b[38;5;124m\"\u001b[39m)\n\u001b[1;32m    342\u001b[0m file_handle\u001b[38;5;241m.\u001b[39mflush()\n",
      "\u001b[0;31mJobException\u001b[0m: Exception : \n {\n    \"error\": {\n        \"code\": \"UserError\",\n        \"message\": \"Pipeline has failed child jobs. Failed nodes: /chat_flow_node, /eval_perceived_intelligence_node, /eval_qna_rag_metrics_node, /simple_summarization_node. For more details and logs, please go to the job detail page and check the child jobs.\",\n        \"message_format\": \"Pipeline has failed child jobs. {0}\",\n        \"message_parameters\": {},\n        \"reference_code\": \"PipelineHasStepJobFailed\",\n        \"details\": []\n    },\n    \"environment\": \"swedencentral\",\n    \"location\": \"swedencentral\",\n    \"time\": \"2025-02-27T10:25:56.191357Z\",\n    \"component_name\": \"\"\n} "
     ]
    }
   ],
   "source": [
    "# Submit the pipeline job to your workspace\n",
    "pipeline_job_run = ml_client.jobs.create_or_update(\n",
    "    pipeline_job_def, experiment_name=\"Continuous Monitoring\"\n",
    ")\n",
    "pipeline_job_run\n",
    "\n",
    "ml_client.jobs.stream(pipeline_job_run.name)"
   ]
  },
  {
   "cell_type": "markdown",
   "metadata": {},
   "source": [
    "# 4.1 Next step - Setup scheduler for your pipeline"
   ]
  },
  {
   "cell_type": "code",
   "execution_count": 22,
   "metadata": {},
   "outputs": [],
   "source": [
    "from datetime import datetime\n",
    "from azure.ai.ml.entities import JobSchedule, RecurrenceTrigger, RecurrencePattern\n",
    "from azure.ai.ml.constants import TimeZone\n",
    "\n",
    "schedule_name = \"simple_sdk_create_schedule_recurrence\"\n",
    "schedule_start_time = datetime.utcnow()\n",
    "\n",
    "recurrence_trigger = RecurrenceTrigger(\n",
    "    frequency=\"day\",  # could accept \"hour\", \"minute\", \"day\", \"week\", \"month\"\n",
    "    interval=1,\n",
    "    schedule=RecurrencePattern(hours=10, minutes=[0, 1]),\n",
    "    start_time=schedule_start_time,\n",
    "    time_zone=TimeZone.UTC,\n",
    ")\n",
    "\n",
    "job_schedule = JobSchedule(\n",
    "    name=schedule_name,\n",
    "    trigger=recurrence_trigger,\n",
    "    # Declare the pipeline job to be scheduled. Here we uses the pipeline job created in previous example.\n",
    "    create_job=pipeline_job_def,\n",
    ")"
   ]
  },
  {
   "cell_type": "markdown",
   "metadata": {},
   "source": [
    "#  Initiate the scheduler"
   ]
  },
  {
   "cell_type": "code",
   "execution_count": 23,
   "metadata": {},
   "outputs": [
    {
     "name": "stderr",
     "output_type": "stream",
     "text": [
      "pathOnCompute is not a known attribute of class <class 'azure.ai.ml._restclient.v2023_04_01_preview.models._models_py3.UriFolderJobOutput'> and will be ignored\n"
     ]
    },
    {
     "name": "stdout",
     "output_type": "stream",
     "text": [
      ".......name: simple_sdk_create_schedule_recurrence\n",
      "create_job:\n",
      "  display_name: continuous_monitoring\n",
      "  status: NotStarted\n",
      "  experiment_name: Continuous Monitoring\n",
      "  properties:\n",
      "    mlflow.source.git.repoURL: https://github.com/iAli61/promptflow-demo.git\n",
      "    mlflow.source.git.branch: main\n",
      "    mlflow.source.git.commit: c604e8f438211da648b67b25b2e9f437d864f6c4\n",
      "    azureml.git.dirty: 'True'\n",
      "  type: pipeline\n",
      "  inputs:\n",
      "    pipeline_input_data:\n",
      "      mode: ro_mount\n",
      "      type: uri_file\n",
      "      path: azureml://datastores/workspaceblobstore/paths/LocalUpload/6105ca54484e3ee21a7e51c3ce9ae813/monitoring_dataset.jsonl\n",
      "    parallel_node_count: '1'\n",
      "  outputs:\n",
      "    eval_results_output_folder:\n",
      "      mode: rw_mount\n",
      "      type: uri_folder\n",
      "  jobs:\n",
      "    chat_flow_node:\n",
      "      logging_level: DEBUG\n",
      "      mini_batch_size: '5'\n",
      "      resources:\n",
      "        instance_count: ${{parent.inputs.parallel_node_count}}\n",
      "      retry_settings:\n",
      "        timeout: 1200\n",
      "        max_retries: 1\n",
      "      max_concurrency_per_instance: 2\n",
      "      error_threshold: -1\n",
      "      mini_batch_error_threshold: -1\n",
      "      environment_variables:\n",
      "        PF_INPUT_FORMAT: jsonl\n",
      "      inputs:\n",
      "        chat_history: ${data.chat_history}\n",
      "        question: ${data.question}\n",
      "        connections.chat.connection: azure_open_ai_connection\n",
      "        connections.chat.deployment_name: gpt-35-turbo\n",
      "        data:\n",
      "          path: ${{parent.inputs.pipeline_input_data}}\n",
      "      compute: azureml:serverless\n",
      "      component: azureml:/subscriptions/f804f2da-c27b-45ac-bf80-16d4d331776d/resourceGroups/rg-acadocser-dev-04/providers/Microsoft.MachineLearningServices/workspaces/mlw-acadocser-dev-04/components/azureml_anonymous/versions/cc93b347-3457-4e80-9c1b-02480a1fcd8e\n",
      "      type: parallel\n",
      "    eval_qna_rag_metrics_node:\n",
      "      logging_level: DEBUG\n",
      "      mini_batch_size: '5'\n",
      "      resources:\n",
      "        instance_count: ${{parent.inputs.parallel_node_count}}\n",
      "      retry_settings:\n",
      "        timeout: 1200\n",
      "        max_retries: 1\n",
      "      max_concurrency_per_instance: 2\n",
      "      error_threshold: -1\n",
      "      mini_batch_error_threshold: -1\n",
      "      environment_variables:\n",
      "        PF_INPUT_FORMAT: jsonl\n",
      "      inputs:\n",
      "        documents: ${data.documents}\n",
      "        question: ${data.question}\n",
      "        answer: ${run.outputs.answer}\n",
      "        connections.gpt_groundedness.connection: azure_open_ai_connection\n",
      "        connections.gpt_groundedness.deployment_name: gpt-35-turbo\n",
      "        connections.gpt_relevance.connection: azure_open_ai_connection\n",
      "        connections.gpt_relevance.deployment_name: gpt-35-turbo\n",
      "        connections.gpt_retrieval_score.connection: azure_open_ai_connection\n",
      "        connections.gpt_retrieval_score.deployment_name: gpt-35-turbo\n",
      "        data:\n",
      "          path: ${{parent.inputs.pipeline_input_data}}\n",
      "        run_outputs:\n",
      "          path: ${{parent.jobs.chat_flow_node.outputs.flow_outputs}}\n",
      "      compute: azureml:serverless\n",
      "      component: azureml:/subscriptions/f804f2da-c27b-45ac-bf80-16d4d331776d/resourceGroups/rg-acadocser-dev-04/providers/Microsoft.MachineLearningServices/workspaces/mlw-acadocser-dev-04/components/azureml_anonymous/versions/edd27ac7-a667-492c-b9f2-4a48c297a641\n",
      "      type: parallel\n",
      "    eval_perceived_intelligence_node:\n",
      "      logging_level: DEBUG\n",
      "      mini_batch_size: '5'\n",
      "      resources:\n",
      "        instance_count: ${{parent.inputs.parallel_node_count}}\n",
      "      retry_settings:\n",
      "        timeout: 1200\n",
      "        max_retries: 1\n",
      "      max_concurrency_per_instance: 2\n",
      "      error_threshold: -1\n",
      "      mini_batch_error_threshold: -1\n",
      "      environment_variables:\n",
      "        PF_INPUT_FORMAT: jsonl\n",
      "      inputs:\n",
      "        question: ${data.question}\n",
      "        context: ${data.context}\n",
      "        answer: ${run.outputs.answer}\n",
      "        connections.gpt_perceived_intelligence.connection: azure_open_ai_connection\n",
      "        connections.gpt_perceived_intelligence.deployment_name: gpt-35-turbo\n",
      "        data:\n",
      "          path: ${{parent.inputs.pipeline_input_data}}\n",
      "        run_outputs:\n",
      "          path: ${{parent.jobs.chat_flow_node.outputs.flow_outputs}}\n",
      "      compute: azureml:serverless\n",
      "      component: azureml:/subscriptions/f804f2da-c27b-45ac-bf80-16d4d331776d/resourceGroups/rg-acadocser-dev-04/providers/Microsoft.MachineLearningServices/workspaces/mlw-acadocser-dev-04/components/azureml_anonymous/versions/6a8a9fc4-1610-4406-a28b-e7d0ac470463\n",
      "      type: parallel\n",
      "    simple_summarization_node:\n",
      "      logging_level: DEBUG\n",
      "      mini_batch_size: '5'\n",
      "      resources:\n",
      "        instance_count: ${{parent.inputs.parallel_node_count}}\n",
      "      retry_settings:\n",
      "        timeout: 1200\n",
      "        max_retries: 1\n",
      "      max_concurrency_per_instance: 2\n",
      "      error_threshold: -1\n",
      "      mini_batch_error_threshold: -1\n",
      "      environment_variables:\n",
      "        PF_INPUT_FORMAT: jsonl\n",
      "      inputs:\n",
      "        answer: ${run.outputs.answer}\n",
      "        connections.summarize_text_content.connection: azure_open_ai_connection\n",
      "        connections.summarize_text_content.deployment_name: gpt-35-turbo\n",
      "        data:\n",
      "          path: ${{parent.inputs.pipeline_input_data}}\n",
      "        run_outputs:\n",
      "          path: ${{parent.jobs.chat_flow_node.outputs.flow_outputs}}\n",
      "      compute: azureml:serverless\n",
      "      component: azureml:/subscriptions/f804f2da-c27b-45ac-bf80-16d4d331776d/resourceGroups/rg-acadocser-dev-04/providers/Microsoft.MachineLearningServices/workspaces/mlw-acadocser-dev-04/components/azureml_anonymous/versions/3e315ce6-50c9-4e23-b75b-b36f70f16cc4\n",
      "      type: parallel\n",
      "    eval_summarization_node:\n",
      "      logging_level: DEBUG\n",
      "      mini_batch_size: '5'\n",
      "      resources:\n",
      "        instance_count: ${{parent.inputs.parallel_node_count}}\n",
      "      retry_settings:\n",
      "        timeout: 1200\n",
      "        max_retries: 1\n",
      "      max_concurrency_per_instance: 2\n",
      "      error_threshold: -1\n",
      "      mini_batch_error_threshold: -1\n",
      "      environment_variables:\n",
      "        PF_INPUT_FORMAT: jsonl\n",
      "      inputs:\n",
      "        summary: ${data.summary}\n",
      "        document: ${run.outputs.answer}\n",
      "        connections.score_fluency.connection: azure_open_ai_connection\n",
      "        connections.score_consistency.connection: azure_open_ai_connection\n",
      "        connections.score_relevance.connection: azure_open_ai_connection\n",
      "        connections.score_coherence.connection: azure_open_ai_connection\n",
      "        data:\n",
      "          path: ${{parent.jobs.simple_summarization_node.outputs.flow_outputs}}\n",
      "        run_outputs:\n",
      "          path: ${{parent.jobs.chat_flow_node.outputs.flow_outputs}}\n",
      "      compute: azureml:serverless\n",
      "      component: azureml:/subscriptions/f804f2da-c27b-45ac-bf80-16d4d331776d/resourceGroups/rg-acadocser-dev-04/providers/Microsoft.MachineLearningServices/workspaces/mlw-acadocser-dev-04/components/azureml_anonymous/versions/fbf6046c-7c6c-4954-bc51-082d0bd7dfd4\n",
      "      type: parallel\n",
      "    convert_parquet_node:\n",
      "      inputs:\n",
      "        eval_qna_rag_metrics_output_folder:\n",
      "          path: ${{parent.jobs.eval_qna_rag_metrics_node.outputs.flow_outputs}}\n",
      "        eval_perceived_intelligence_output_folder:\n",
      "          path: ${{parent.jobs.eval_perceived_intelligence_node.outputs.flow_outputs}}\n",
      "        eval_summarization_output_folder:\n",
      "          path: ${{parent.jobs.eval_summarization_node.outputs.flow_outputs}}\n",
      "      outputs:\n",
      "        eval_results_output: ${{parent.outputs.eval_results_output_folder}}\n",
      "      component: azureml:/subscriptions/f804f2da-c27b-45ac-bf80-16d4d331776d/resourceGroups/rg-acadocser-dev-04/providers/Microsoft.MachineLearningServices/workspaces/mlw-acadocser-dev-04/components/azureml_anonymous/versions/7e64389d-9c4d-4778-9fb0-2bcdf2a60067\n",
      "      type: command\n",
      "      compute: azureml:serverless\n",
      "creation_context:\n",
      "  created_at: '2025-02-27T10:31:24.893925+00:00'\n",
      "  created_by: Ali Bina\n",
      "  created_by_type: User\n",
      "  last_modified_at: '2025-02-27T10:31:24.893925+00:00'\n",
      "  last_modified_by: Ali Bina\n",
      "  last_modified_by_type: User\n",
      "is_enabled: true\n",
      "provisioning_state: Succeeded\n",
      "trigger:\n",
      "  start_time: '2025-02-27 10:30:50.870239'\n",
      "  time_zone: UTC\n",
      "  type: recurrence\n",
      "  frequency: day\n",
      "  interval: 1\n",
      "  schedule:\n",
      "    hours:\n",
      "    - 10\n",
      "    minutes:\n",
      "    - 0\n",
      "    - 1\n",
      "\n"
     ]
    }
   ],
   "source": [
    "job_schedule = ml_client.schedules.begin_create_or_update(\n",
    "    schedule=job_schedule\n",
    ").result()\n",
    "print(job_schedule)"
   ]
  },
  {
   "cell_type": "markdown",
   "metadata": {},
   "source": [
    "# To disable or shut down a running scheduler"
   ]
  },
  {
   "cell_type": "code",
   "execution_count": 24,
   "metadata": {},
   "outputs": [
    {
     "name": "stderr",
     "output_type": "stream",
     "text": [
      "pathOnCompute is not a known attribute of class <class 'azure.ai.ml._restclient.v2023_04_01_preview.models._models_py3.UriFolderJobOutput'> and will be ignored\n"
     ]
    },
    {
     "name": "stdout",
     "output_type": "stream",
     "text": [
      ".."
     ]
    },
    {
     "data": {
      "text/plain": [
       "False"
      ]
     },
     "execution_count": 24,
     "metadata": {},
     "output_type": "execute_result"
    }
   ],
   "source": [
    "job_schedule = ml_client.schedules.begin_disable(name=schedule_name).result()\n",
    "job_schedule.is_enabled"
   ]
  },
  {
   "cell_type": "markdown",
   "metadata": {},
   "source": [
    "# 4.2 Next step - Deploy pipeline to an endpoint"
   ]
  },
  {
   "cell_type": "code",
   "execution_count": null,
   "metadata": {},
   "outputs": [],
   "source": [
    "from azure.ai.ml.entities import BatchEndpoint, PipelineComponentBatchDeployment\n",
    "\n",
    "# from azure.ai.ml.entities import ModelBatchDeployment, ModelBatchDeploymentSettings, Model, AmlCompute, Data, BatchRetrySettings, CodeConfiguration, Environment, Data\n",
    "# from azure.ai.ml.constants import BatchDeploymentOutputAction\n",
    "\n",
    "\n",
    "endpoint_name = \"hello-my-pipeline-endpoint\"\n",
    "endpoint = BatchEndpoint(\n",
    "    name=endpoint_name,\n",
    "    description=\"A hello world endpoint for pipeline\",\n",
    ")\n",
    "\n",
    "ml_client.batch_endpoints.begin_create_or_update(endpoint).result()"
   ]
  }
 ],
 "metadata": {
  "build_doc": {
   "author": [
    "loubigard@github.com"
   ],
   "category": "azure",
   "section": "Flow",
   "weight": 40
  },
  "description": "A tutorial to create a pipeline using components to do continuous monitoring on a Gen AI application",
  "kernelspec": {
   "display_name": "pf",
   "language": "python",
   "name": "python3"
  },
  "language_info": {
   "codemirror_mode": {
    "name": "ipython",
    "version": 3
   },
   "file_extension": ".py",
   "mimetype": "text/x-python",
   "name": "python",
   "nbconvert_exporter": "python",
   "pygments_lexer": "ipython3",
   "version": "3.11.11"
  },
  "resources": "examples/flows/chat/chat-basic,examples/flows/evaluation/eval-qna-rag-metrics,examples/flows/evaluation/eval-perceived-intelligence,examples/flows/evaluation/eval-summarization"
 },
 "nbformat": 4,
 "nbformat_minor": 2
}
